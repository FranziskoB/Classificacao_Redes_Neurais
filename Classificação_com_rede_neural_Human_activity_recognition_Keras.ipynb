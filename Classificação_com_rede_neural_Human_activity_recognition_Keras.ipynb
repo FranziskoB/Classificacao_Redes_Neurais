{
  "nbformat": 4,
  "nbformat_minor": 0,
  "metadata": {
    "colab": {
      "provenance": [],
      "gpuType": "T4",
      "authorship_tag": "ABX9TyPYcTh6uRkJaYgb5TB7uNnl",
      "include_colab_link": true
    },
    "kernelspec": {
      "name": "python3",
      "display_name": "Python 3"
    },
    "language_info": {
      "name": "python"
    },
    "accelerator": "GPU"
  },
  "cells": [
    {
      "cell_type": "markdown",
      "metadata": {
        "id": "view-in-github",
        "colab_type": "text"
      },
      "source": [
        "<a href=\"https://colab.research.google.com/github/FranziskoB/Classificacao_Redes_Neurais/blob/main/Classifica%C3%A7%C3%A3o_com_rede_neural_Human_activity_recognition_Keras.ipynb\" target=\"_parent\"><img src=\"https://colab.research.google.com/assets/colab-badge.svg\" alt=\"Open In Colab\"/></a>"
      ]
    },
    {
      "cell_type": "markdown",
      "source": [
        "#Modelagem de 'human activity recognition"
      ],
      "metadata": {
        "id": "TVnp_w-TiBFU"
      }
    },
    {
      "cell_type": "markdown",
      "source": [
        "###Sobre o conjunto de dados\n",
        "O banco de dados de Reconhecimento de Atividade Humana foi construído a partir das gravações de 30 participantes do estudo realizando atividades da vida diária (AVD) enquanto carregavam um smartphone montado na cintura com sensores inerciais embutidos. O objetivo é classificar as atividades em uma das seis atividades realizadas.\n",
        "\n",
        "###Descrição do experimento\n",
        "Os experimentos foram realizados com um grupo de 30 voluntários na faixa etária de 19 a 48 anos. Cada pessoa realizou seis atividades (WALKING, WALKING_UPSTAIRS, WALKING_DOWNSTAIRS, SITTING, STANDING, LAYING) usando um smartphone (Samsung Galaxy S II) na cintura. Usando seu acelerômetro e giroscópio incorporados, capturamos aceleração linear 3-axial e velocidade angular 3-axial a uma taxa constante de 50 Hz. Os experimentos foram gravados em vídeo para rotular os dados manualmente. O conjunto de dados obtido foi particionado aleatoriamente em dois conjuntos, onde 70% dos voluntários foram selecionados para gerar os dados de treinamento e 30% os dados de teste.\n",
        "\n",
        "Os sinais dos sensores (acelerômetro e giroscópio) foram pré-processados pela aplicação de filtros de ruído e então amostrados em janelas deslizantes de largura fixa de 2,56 segundos e 50% de sobreposição (128 leituras/janela). O sinal de aceleração do sensor, que possui componentes gravitacionais e de movimento corporal, foi separado usando um filtro passa-baixa Butterworth em aceleração corporal e gravidade. A força gravitacional é assumida como tendo apenas componentes de baixa frequência, portanto, um filtro com frequência de corte de 0,3 Hz foi usado. De cada janela, um vetor de características foi obtido calculando variáveis do domínio do tempo e da frequência."
      ],
      "metadata": {
        "id": "bEE4jpf0iID5"
      }
    },
    {
      "cell_type": "markdown",
      "metadata": {
        "id": "9RvaRHemclv1"
      },
      "source": [
        "Bibliotecas"
      ]
    },
    {
      "cell_type": "code",
      "execution_count": null,
      "metadata": {
        "id": "dxdD62QMV5Fd"
      },
      "outputs": [],
      "source": [
        "import pandas as pd\n",
        "import matplotlib.pyplot as plt\n",
        "import seaborn as sns\n",
        "import numpy as np\n",
        "import tensorflow\n",
        "from tensorflow import keras"
      ]
    },
    {
      "cell_type": "markdown",
      "metadata": {
        "id": "DBjMZnqNZsZF"
      },
      "source": [
        "importando os dados"
      ]
    },
    {
      "cell_type": "code",
      "execution_count": null,
      "metadata": {
        "colab": {
          "base_uri": "https://localhost:8080/"
        },
        "id": "mO9KoefWRqSq",
        "outputId": "7839bcfc-9f41-4413-99b2-61e13f864582"
      },
      "outputs": [
        {
          "output_type": "stream",
          "name": "stdout",
          "text": [
            "Drive already mounted at /content/drive; to attempt to forcibly remount, call drive.mount(\"/content/drive\", force_remount=True).\n"
          ]
        }
      ],
      "source": [
        "from google.colab import drive\n",
        "drive.mount('/content/drive')"
      ]
    },
    {
      "cell_type": "code",
      "execution_count": null,
      "metadata": {
        "id": "e8uh4yTxf7UE"
      },
      "outputs": [],
      "source": [
        "train= pd.read_csv(\"/content/drive/MyDrive/MBA DSA/HAR_train.csv\")\n",
        "test= pd.read_csv(\"/content/drive/MyDrive/MBA DSA/HAR_test.csv\")"
      ]
    },
    {
      "cell_type": "markdown",
      "metadata": {
        "id": "WDhcioXGgJk_"
      },
      "source": [
        "visualizando os dados"
      ]
    },
    {
      "cell_type": "code",
      "execution_count": null,
      "metadata": {
        "colab": {
          "base_uri": "https://localhost:8080/",
          "height": 342
        },
        "id": "xsE0qSPvgIyC",
        "outputId": "392821e2-d250-4310-b9db-b6022848888a"
      },
      "outputs": [
        {
          "output_type": "execute_result",
          "data": {
            "text/plain": [
              "   V1  X1tBodyAcc.mean.X  X2tBodyAcc.mean.Y  X3tBodyAcc.mean.Z  \\\n",
              "0   5           0.257178          -0.023285          -0.014654   \n",
              "1   5           0.286027          -0.013163          -0.119083   \n",
              "2   5           0.275485          -0.026050          -0.118152   \n",
              "3   5           0.270298          -0.032614          -0.117520   \n",
              "4   5           0.274833          -0.027848          -0.129527   \n",
              "\n",
              "   X4tBodyAcc.td.X  X5tBodyAcc.td.Y  X6tBodyAcc.td.Z  X7tBodyAcc.mad.X  \\\n",
              "0        -0.938404        -0.920091        -0.667683         -0.952501   \n",
              "1        -0.975415        -0.967458        -0.944958         -0.986799   \n",
              "2        -0.993819        -0.969926        -0.962748         -0.994403   \n",
              "3        -0.994743        -0.973268        -0.967091         -0.995274   \n",
              "4        -0.993852        -0.967445        -0.978295         -0.994111   \n",
              "\n",
              "   X8tBodyAcc.mad.Y  X9tBodyAcc.mad.Z  ...  X553fBodyBodyGyroJerkMag.kewne  \\\n",
              "0         -0.925249         -0.674302  ...                       -0.330370   \n",
              "1         -0.968401         -0.945823  ...                       -0.121845   \n",
              "2         -0.970735         -0.963483  ...                       -0.190422   \n",
              "3         -0.974471         -0.968897  ...                       -0.344418   \n",
              "4         -0.965953         -0.977346  ...                       -0.534685   \n",
              "\n",
              "   X554fBodyBodyGyroJerkMag.kurtoi  X555angletBodyAccMeangravity  \\\n",
              "0                        -0.705974                      0.006462   \n",
              "1                        -0.594944                     -0.083495   \n",
              "2                        -0.640736                     -0.034956   \n",
              "3                        -0.736124                     -0.017067   \n",
              "4                        -0.846595                     -0.002223   \n",
              "\n",
              "   X556angletBodyAccJerkMeangravityMean  X557angletBodyGyroMeangravityMean  \\\n",
              "0                              0.162920                          -0.825886   \n",
              "1                              0.017500                          -0.434375   \n",
              "2                              0.202302                           0.064103   \n",
              "3                              0.154438                           0.340134   \n",
              "4                             -0.040046                           0.736715   \n",
              "\n",
              "   X558angletBodyGyroJerkMeangravityMean  X559angleXgravityMean  \\\n",
              "0                               0.271151              -0.720009   \n",
              "1                               0.920593              -0.698091   \n",
              "2                               0.145068              -0.702771   \n",
              "3                               0.296407              -0.698954   \n",
              "4                              -0.118545              -0.692245   \n",
              "\n",
              "   X560angleYgravityMean  X561angleZgravityMean      y  \n",
              "0               0.276801              -0.057978  em pé  \n",
              "1               0.281343              -0.083898  em pé  \n",
              "2               0.280083              -0.079346  em pé  \n",
              "3               0.284114              -0.077108  em pé  \n",
              "4               0.290722              -0.073857  em pé  \n",
              "\n",
              "[5 rows x 563 columns]"
            ],
            "text/html": [
              "\n",
              "  <div id=\"df-59dd51f8-770f-4dc3-b50f-f51c3b2f7cd6\" class=\"colab-df-container\">\n",
              "    <div>\n",
              "<style scoped>\n",
              "    .dataframe tbody tr th:only-of-type {\n",
              "        vertical-align: middle;\n",
              "    }\n",
              "\n",
              "    .dataframe tbody tr th {\n",
              "        vertical-align: top;\n",
              "    }\n",
              "\n",
              "    .dataframe thead th {\n",
              "        text-align: right;\n",
              "    }\n",
              "</style>\n",
              "<table border=\"1\" class=\"dataframe\">\n",
              "  <thead>\n",
              "    <tr style=\"text-align: right;\">\n",
              "      <th></th>\n",
              "      <th>V1</th>\n",
              "      <th>X1tBodyAcc.mean.X</th>\n",
              "      <th>X2tBodyAcc.mean.Y</th>\n",
              "      <th>X3tBodyAcc.mean.Z</th>\n",
              "      <th>X4tBodyAcc.td.X</th>\n",
              "      <th>X5tBodyAcc.td.Y</th>\n",
              "      <th>X6tBodyAcc.td.Z</th>\n",
              "      <th>X7tBodyAcc.mad.X</th>\n",
              "      <th>X8tBodyAcc.mad.Y</th>\n",
              "      <th>X9tBodyAcc.mad.Z</th>\n",
              "      <th>...</th>\n",
              "      <th>X553fBodyBodyGyroJerkMag.kewne</th>\n",
              "      <th>X554fBodyBodyGyroJerkMag.kurtoi</th>\n",
              "      <th>X555angletBodyAccMeangravity</th>\n",
              "      <th>X556angletBodyAccJerkMeangravityMean</th>\n",
              "      <th>X557angletBodyGyroMeangravityMean</th>\n",
              "      <th>X558angletBodyGyroJerkMeangravityMean</th>\n",
              "      <th>X559angleXgravityMean</th>\n",
              "      <th>X560angleYgravityMean</th>\n",
              "      <th>X561angleZgravityMean</th>\n",
              "      <th>y</th>\n",
              "    </tr>\n",
              "  </thead>\n",
              "  <tbody>\n",
              "    <tr>\n",
              "      <th>0</th>\n",
              "      <td>5</td>\n",
              "      <td>0.257178</td>\n",
              "      <td>-0.023285</td>\n",
              "      <td>-0.014654</td>\n",
              "      <td>-0.938404</td>\n",
              "      <td>-0.920091</td>\n",
              "      <td>-0.667683</td>\n",
              "      <td>-0.952501</td>\n",
              "      <td>-0.925249</td>\n",
              "      <td>-0.674302</td>\n",
              "      <td>...</td>\n",
              "      <td>-0.330370</td>\n",
              "      <td>-0.705974</td>\n",
              "      <td>0.006462</td>\n",
              "      <td>0.162920</td>\n",
              "      <td>-0.825886</td>\n",
              "      <td>0.271151</td>\n",
              "      <td>-0.720009</td>\n",
              "      <td>0.276801</td>\n",
              "      <td>-0.057978</td>\n",
              "      <td>em pé</td>\n",
              "    </tr>\n",
              "    <tr>\n",
              "      <th>1</th>\n",
              "      <td>5</td>\n",
              "      <td>0.286027</td>\n",
              "      <td>-0.013163</td>\n",
              "      <td>-0.119083</td>\n",
              "      <td>-0.975415</td>\n",
              "      <td>-0.967458</td>\n",
              "      <td>-0.944958</td>\n",
              "      <td>-0.986799</td>\n",
              "      <td>-0.968401</td>\n",
              "      <td>-0.945823</td>\n",
              "      <td>...</td>\n",
              "      <td>-0.121845</td>\n",
              "      <td>-0.594944</td>\n",
              "      <td>-0.083495</td>\n",
              "      <td>0.017500</td>\n",
              "      <td>-0.434375</td>\n",
              "      <td>0.920593</td>\n",
              "      <td>-0.698091</td>\n",
              "      <td>0.281343</td>\n",
              "      <td>-0.083898</td>\n",
              "      <td>em pé</td>\n",
              "    </tr>\n",
              "    <tr>\n",
              "      <th>2</th>\n",
              "      <td>5</td>\n",
              "      <td>0.275485</td>\n",
              "      <td>-0.026050</td>\n",
              "      <td>-0.118152</td>\n",
              "      <td>-0.993819</td>\n",
              "      <td>-0.969926</td>\n",
              "      <td>-0.962748</td>\n",
              "      <td>-0.994403</td>\n",
              "      <td>-0.970735</td>\n",
              "      <td>-0.963483</td>\n",
              "      <td>...</td>\n",
              "      <td>-0.190422</td>\n",
              "      <td>-0.640736</td>\n",
              "      <td>-0.034956</td>\n",
              "      <td>0.202302</td>\n",
              "      <td>0.064103</td>\n",
              "      <td>0.145068</td>\n",
              "      <td>-0.702771</td>\n",
              "      <td>0.280083</td>\n",
              "      <td>-0.079346</td>\n",
              "      <td>em pé</td>\n",
              "    </tr>\n",
              "    <tr>\n",
              "      <th>3</th>\n",
              "      <td>5</td>\n",
              "      <td>0.270298</td>\n",
              "      <td>-0.032614</td>\n",
              "      <td>-0.117520</td>\n",
              "      <td>-0.994743</td>\n",
              "      <td>-0.973268</td>\n",
              "      <td>-0.967091</td>\n",
              "      <td>-0.995274</td>\n",
              "      <td>-0.974471</td>\n",
              "      <td>-0.968897</td>\n",
              "      <td>...</td>\n",
              "      <td>-0.344418</td>\n",
              "      <td>-0.736124</td>\n",
              "      <td>-0.017067</td>\n",
              "      <td>0.154438</td>\n",
              "      <td>0.340134</td>\n",
              "      <td>0.296407</td>\n",
              "      <td>-0.698954</td>\n",
              "      <td>0.284114</td>\n",
              "      <td>-0.077108</td>\n",
              "      <td>em pé</td>\n",
              "    </tr>\n",
              "    <tr>\n",
              "      <th>4</th>\n",
              "      <td>5</td>\n",
              "      <td>0.274833</td>\n",
              "      <td>-0.027848</td>\n",
              "      <td>-0.129527</td>\n",
              "      <td>-0.993852</td>\n",
              "      <td>-0.967445</td>\n",
              "      <td>-0.978295</td>\n",
              "      <td>-0.994111</td>\n",
              "      <td>-0.965953</td>\n",
              "      <td>-0.977346</td>\n",
              "      <td>...</td>\n",
              "      <td>-0.534685</td>\n",
              "      <td>-0.846595</td>\n",
              "      <td>-0.002223</td>\n",
              "      <td>-0.040046</td>\n",
              "      <td>0.736715</td>\n",
              "      <td>-0.118545</td>\n",
              "      <td>-0.692245</td>\n",
              "      <td>0.290722</td>\n",
              "      <td>-0.073857</td>\n",
              "      <td>em pé</td>\n",
              "    </tr>\n",
              "  </tbody>\n",
              "</table>\n",
              "<p>5 rows × 563 columns</p>\n",
              "</div>\n",
              "    <div class=\"colab-df-buttons\">\n",
              "\n",
              "  <div class=\"colab-df-container\">\n",
              "    <button class=\"colab-df-convert\" onclick=\"convertToInteractive('df-59dd51f8-770f-4dc3-b50f-f51c3b2f7cd6')\"\n",
              "            title=\"Convert this dataframe to an interactive table.\"\n",
              "            style=\"display:none;\">\n",
              "\n",
              "  <svg xmlns=\"http://www.w3.org/2000/svg\" height=\"24px\" viewBox=\"0 -960 960 960\">\n",
              "    <path d=\"M120-120v-720h720v720H120Zm60-500h600v-160H180v160Zm220 220h160v-160H400v160Zm0 220h160v-160H400v160ZM180-400h160v-160H180v160Zm440 0h160v-160H620v160ZM180-180h160v-160H180v160Zm440 0h160v-160H620v160Z\"/>\n",
              "  </svg>\n",
              "    </button>\n",
              "\n",
              "  <style>\n",
              "    .colab-df-container {\n",
              "      display:flex;\n",
              "      gap: 12px;\n",
              "    }\n",
              "\n",
              "    .colab-df-convert {\n",
              "      background-color: #E8F0FE;\n",
              "      border: none;\n",
              "      border-radius: 50%;\n",
              "      cursor: pointer;\n",
              "      display: none;\n",
              "      fill: #1967D2;\n",
              "      height: 32px;\n",
              "      padding: 0 0 0 0;\n",
              "      width: 32px;\n",
              "    }\n",
              "\n",
              "    .colab-df-convert:hover {\n",
              "      background-color: #E2EBFA;\n",
              "      box-shadow: 0px 1px 2px rgba(60, 64, 67, 0.3), 0px 1px 3px 1px rgba(60, 64, 67, 0.15);\n",
              "      fill: #174EA6;\n",
              "    }\n",
              "\n",
              "    .colab-df-buttons div {\n",
              "      margin-bottom: 4px;\n",
              "    }\n",
              "\n",
              "    [theme=dark] .colab-df-convert {\n",
              "      background-color: #3B4455;\n",
              "      fill: #D2E3FC;\n",
              "    }\n",
              "\n",
              "    [theme=dark] .colab-df-convert:hover {\n",
              "      background-color: #434B5C;\n",
              "      box-shadow: 0px 1px 3px 1px rgba(0, 0, 0, 0.15);\n",
              "      filter: drop-shadow(0px 1px 2px rgba(0, 0, 0, 0.3));\n",
              "      fill: #FFFFFF;\n",
              "    }\n",
              "  </style>\n",
              "\n",
              "    <script>\n",
              "      const buttonEl =\n",
              "        document.querySelector('#df-59dd51f8-770f-4dc3-b50f-f51c3b2f7cd6 button.colab-df-convert');\n",
              "      buttonEl.style.display =\n",
              "        google.colab.kernel.accessAllowed ? 'block' : 'none';\n",
              "\n",
              "      async function convertToInteractive(key) {\n",
              "        const element = document.querySelector('#df-59dd51f8-770f-4dc3-b50f-f51c3b2f7cd6');\n",
              "        const dataTable =\n",
              "          await google.colab.kernel.invokeFunction('convertToInteractive',\n",
              "                                                    [key], {});\n",
              "        if (!dataTable) return;\n",
              "\n",
              "        const docLinkHtml = 'Like what you see? Visit the ' +\n",
              "          '<a target=\"_blank\" href=https://colab.research.google.com/notebooks/data_table.ipynb>data table notebook</a>'\n",
              "          + ' to learn more about interactive tables.';\n",
              "        element.innerHTML = '';\n",
              "        dataTable['output_type'] = 'display_data';\n",
              "        await google.colab.output.renderOutput(dataTable, element);\n",
              "        const docLink = document.createElement('div');\n",
              "        docLink.innerHTML = docLinkHtml;\n",
              "        element.appendChild(docLink);\n",
              "      }\n",
              "    </script>\n",
              "  </div>\n",
              "\n",
              "\n",
              "<div id=\"df-31dffa8b-6c7c-4f3b-9100-39e8f8e2dbd9\">\n",
              "  <button class=\"colab-df-quickchart\" onclick=\"quickchart('df-31dffa8b-6c7c-4f3b-9100-39e8f8e2dbd9')\"\n",
              "            title=\"Suggest charts.\"\n",
              "            style=\"display:none;\">\n",
              "\n",
              "<svg xmlns=\"http://www.w3.org/2000/svg\" height=\"24px\"viewBox=\"0 0 24 24\"\n",
              "     width=\"24px\">\n",
              "    <g>\n",
              "        <path d=\"M19 3H5c-1.1 0-2 .9-2 2v14c0 1.1.9 2 2 2h14c1.1 0 2-.9 2-2V5c0-1.1-.9-2-2-2zM9 17H7v-7h2v7zm4 0h-2V7h2v10zm4 0h-2v-4h2v4z\"/>\n",
              "    </g>\n",
              "</svg>\n",
              "  </button>\n",
              "\n",
              "<style>\n",
              "  .colab-df-quickchart {\n",
              "      --bg-color: #E8F0FE;\n",
              "      --fill-color: #1967D2;\n",
              "      --hover-bg-color: #E2EBFA;\n",
              "      --hover-fill-color: #174EA6;\n",
              "      --disabled-fill-color: #AAA;\n",
              "      --disabled-bg-color: #DDD;\n",
              "  }\n",
              "\n",
              "  [theme=dark] .colab-df-quickchart {\n",
              "      --bg-color: #3B4455;\n",
              "      --fill-color: #D2E3FC;\n",
              "      --hover-bg-color: #434B5C;\n",
              "      --hover-fill-color: #FFFFFF;\n",
              "      --disabled-bg-color: #3B4455;\n",
              "      --disabled-fill-color: #666;\n",
              "  }\n",
              "\n",
              "  .colab-df-quickchart {\n",
              "    background-color: var(--bg-color);\n",
              "    border: none;\n",
              "    border-radius: 50%;\n",
              "    cursor: pointer;\n",
              "    display: none;\n",
              "    fill: var(--fill-color);\n",
              "    height: 32px;\n",
              "    padding: 0;\n",
              "    width: 32px;\n",
              "  }\n",
              "\n",
              "  .colab-df-quickchart:hover {\n",
              "    background-color: var(--hover-bg-color);\n",
              "    box-shadow: 0 1px 2px rgba(60, 64, 67, 0.3), 0 1px 3px 1px rgba(60, 64, 67, 0.15);\n",
              "    fill: var(--button-hover-fill-color);\n",
              "  }\n",
              "\n",
              "  .colab-df-quickchart-complete:disabled,\n",
              "  .colab-df-quickchart-complete:disabled:hover {\n",
              "    background-color: var(--disabled-bg-color);\n",
              "    fill: var(--disabled-fill-color);\n",
              "    box-shadow: none;\n",
              "  }\n",
              "\n",
              "  .colab-df-spinner {\n",
              "    border: 2px solid var(--fill-color);\n",
              "    border-color: transparent;\n",
              "    border-bottom-color: var(--fill-color);\n",
              "    animation:\n",
              "      spin 1s steps(1) infinite;\n",
              "  }\n",
              "\n",
              "  @keyframes spin {\n",
              "    0% {\n",
              "      border-color: transparent;\n",
              "      border-bottom-color: var(--fill-color);\n",
              "      border-left-color: var(--fill-color);\n",
              "    }\n",
              "    20% {\n",
              "      border-color: transparent;\n",
              "      border-left-color: var(--fill-color);\n",
              "      border-top-color: var(--fill-color);\n",
              "    }\n",
              "    30% {\n",
              "      border-color: transparent;\n",
              "      border-left-color: var(--fill-color);\n",
              "      border-top-color: var(--fill-color);\n",
              "      border-right-color: var(--fill-color);\n",
              "    }\n",
              "    40% {\n",
              "      border-color: transparent;\n",
              "      border-right-color: var(--fill-color);\n",
              "      border-top-color: var(--fill-color);\n",
              "    }\n",
              "    60% {\n",
              "      border-color: transparent;\n",
              "      border-right-color: var(--fill-color);\n",
              "    }\n",
              "    80% {\n",
              "      border-color: transparent;\n",
              "      border-right-color: var(--fill-color);\n",
              "      border-bottom-color: var(--fill-color);\n",
              "    }\n",
              "    90% {\n",
              "      border-color: transparent;\n",
              "      border-bottom-color: var(--fill-color);\n",
              "    }\n",
              "  }\n",
              "</style>\n",
              "\n",
              "  <script>\n",
              "    async function quickchart(key) {\n",
              "      const quickchartButtonEl =\n",
              "        document.querySelector('#' + key + ' button');\n",
              "      quickchartButtonEl.disabled = true;  // To prevent multiple clicks.\n",
              "      quickchartButtonEl.classList.add('colab-df-spinner');\n",
              "      try {\n",
              "        const charts = await google.colab.kernel.invokeFunction(\n",
              "            'suggestCharts', [key], {});\n",
              "      } catch (error) {\n",
              "        console.error('Error during call to suggestCharts:', error);\n",
              "      }\n",
              "      quickchartButtonEl.classList.remove('colab-df-spinner');\n",
              "      quickchartButtonEl.classList.add('colab-df-quickchart-complete');\n",
              "    }\n",
              "    (() => {\n",
              "      let quickchartButtonEl =\n",
              "        document.querySelector('#df-31dffa8b-6c7c-4f3b-9100-39e8f8e2dbd9 button');\n",
              "      quickchartButtonEl.style.display =\n",
              "        google.colab.kernel.accessAllowed ? 'block' : 'none';\n",
              "    })();\n",
              "  </script>\n",
              "</div>\n",
              "    </div>\n",
              "  </div>\n"
            ]
          },
          "metadata": {},
          "execution_count": 4
        }
      ],
      "source": [
        "test.head(5)"
      ]
    },
    {
      "cell_type": "code",
      "execution_count": null,
      "metadata": {
        "colab": {
          "base_uri": "https://localhost:8080/",
          "height": 542
        },
        "id": "fh2ulU93iD5P",
        "outputId": "91cd7c93-7379-4c82-f723-9f7c7d01d8be"
      },
      "outputs": [
        {
          "output_type": "display_data",
          "data": {
            "text/html": [
              "<html>\n",
              "<head><meta charset=\"utf-8\" /></head>\n",
              "<body>\n",
              "    <div>            <script src=\"https://cdnjs.cloudflare.com/ajax/libs/mathjax/2.7.5/MathJax.js?config=TeX-AMS-MML_SVG\"></script><script type=\"text/javascript\">if (window.MathJax && window.MathJax.Hub && window.MathJax.Hub.Config) {window.MathJax.Hub.Config({SVG: {font: \"STIX-Web\"}});}</script>                <script type=\"text/javascript\">window.PlotlyConfig = {MathJaxConfig: 'local'};</script>\n",
              "        <script charset=\"utf-8\" src=\"https://cdn.plot.ly/plotly-2.24.1.min.js\"></script>                <div id=\"7923832b-705c-42ed-acc9-936b38e77cb9\" class=\"plotly-graph-div\" style=\"height:525px; width:100%;\"></div>            <script type=\"text/javascript\">                                    window.PLOTLYENV=window.PLOTLYENV || {};                                    if (document.getElementById(\"7923832b-705c-42ed-acc9-936b38e77cb9\")) {                    Plotly.newPlot(                        \"7923832b-705c-42ed-acc9-936b38e77cb9\",                        [{\"alignmentgroup\":\"True\",\"hovertemplate\":\"index=%{x}\\u003cbr\\u003ey=%{y}\\u003cextra\\u003e\\u003c\\u002fextra\\u003e\",\"legendgroup\":\"\",\"marker\":{\"color\":\"#636efa\",\"pattern\":{\"shape\":\"\"}},\"name\":\"\",\"offsetgroup\":\"\",\"orientation\":\"v\",\"showlegend\":false,\"textposition\":\"auto\",\"x\":[\"deitado\",\"em p\\u00e9\",\"sentado\",\"andando\",\"subindo\",\"descendo\"],\"xaxis\":\"x\",\"y\":[1407,1374,1286,1226,1073,986],\"yaxis\":\"y\",\"type\":\"bar\"}],                        {\"template\":{\"data\":{\"histogram2dcontour\":[{\"type\":\"histogram2dcontour\",\"colorbar\":{\"outlinewidth\":0,\"ticks\":\"\"},\"colorscale\":[[0.0,\"#0d0887\"],[0.1111111111111111,\"#46039f\"],[0.2222222222222222,\"#7201a8\"],[0.3333333333333333,\"#9c179e\"],[0.4444444444444444,\"#bd3786\"],[0.5555555555555556,\"#d8576b\"],[0.6666666666666666,\"#ed7953\"],[0.7777777777777778,\"#fb9f3a\"],[0.8888888888888888,\"#fdca26\"],[1.0,\"#f0f921\"]]}],\"choropleth\":[{\"type\":\"choropleth\",\"colorbar\":{\"outlinewidth\":0,\"ticks\":\"\"}}],\"histogram2d\":[{\"type\":\"histogram2d\",\"colorbar\":{\"outlinewidth\":0,\"ticks\":\"\"},\"colorscale\":[[0.0,\"#0d0887\"],[0.1111111111111111,\"#46039f\"],[0.2222222222222222,\"#7201a8\"],[0.3333333333333333,\"#9c179e\"],[0.4444444444444444,\"#bd3786\"],[0.5555555555555556,\"#d8576b\"],[0.6666666666666666,\"#ed7953\"],[0.7777777777777778,\"#fb9f3a\"],[0.8888888888888888,\"#fdca26\"],[1.0,\"#f0f921\"]]}],\"heatmap\":[{\"type\":\"heatmap\",\"colorbar\":{\"outlinewidth\":0,\"ticks\":\"\"},\"colorscale\":[[0.0,\"#0d0887\"],[0.1111111111111111,\"#46039f\"],[0.2222222222222222,\"#7201a8\"],[0.3333333333333333,\"#9c179e\"],[0.4444444444444444,\"#bd3786\"],[0.5555555555555556,\"#d8576b\"],[0.6666666666666666,\"#ed7953\"],[0.7777777777777778,\"#fb9f3a\"],[0.8888888888888888,\"#fdca26\"],[1.0,\"#f0f921\"]]}],\"heatmapgl\":[{\"type\":\"heatmapgl\",\"colorbar\":{\"outlinewidth\":0,\"ticks\":\"\"},\"colorscale\":[[0.0,\"#0d0887\"],[0.1111111111111111,\"#46039f\"],[0.2222222222222222,\"#7201a8\"],[0.3333333333333333,\"#9c179e\"],[0.4444444444444444,\"#bd3786\"],[0.5555555555555556,\"#d8576b\"],[0.6666666666666666,\"#ed7953\"],[0.7777777777777778,\"#fb9f3a\"],[0.8888888888888888,\"#fdca26\"],[1.0,\"#f0f921\"]]}],\"contourcarpet\":[{\"type\":\"contourcarpet\",\"colorbar\":{\"outlinewidth\":0,\"ticks\":\"\"}}],\"contour\":[{\"type\":\"contour\",\"colorbar\":{\"outlinewidth\":0,\"ticks\":\"\"},\"colorscale\":[[0.0,\"#0d0887\"],[0.1111111111111111,\"#46039f\"],[0.2222222222222222,\"#7201a8\"],[0.3333333333333333,\"#9c179e\"],[0.4444444444444444,\"#bd3786\"],[0.5555555555555556,\"#d8576b\"],[0.6666666666666666,\"#ed7953\"],[0.7777777777777778,\"#fb9f3a\"],[0.8888888888888888,\"#fdca26\"],[1.0,\"#f0f921\"]]}],\"surface\":[{\"type\":\"surface\",\"colorbar\":{\"outlinewidth\":0,\"ticks\":\"\"},\"colorscale\":[[0.0,\"#0d0887\"],[0.1111111111111111,\"#46039f\"],[0.2222222222222222,\"#7201a8\"],[0.3333333333333333,\"#9c179e\"],[0.4444444444444444,\"#bd3786\"],[0.5555555555555556,\"#d8576b\"],[0.6666666666666666,\"#ed7953\"],[0.7777777777777778,\"#fb9f3a\"],[0.8888888888888888,\"#fdca26\"],[1.0,\"#f0f921\"]]}],\"mesh3d\":[{\"type\":\"mesh3d\",\"colorbar\":{\"outlinewidth\":0,\"ticks\":\"\"}}],\"scatter\":[{\"fillpattern\":{\"fillmode\":\"overlay\",\"size\":10,\"solidity\":0.2},\"type\":\"scatter\"}],\"parcoords\":[{\"type\":\"parcoords\",\"line\":{\"colorbar\":{\"outlinewidth\":0,\"ticks\":\"\"}}}],\"scatterpolargl\":[{\"type\":\"scatterpolargl\",\"marker\":{\"colorbar\":{\"outlinewidth\":0,\"ticks\":\"\"}}}],\"bar\":[{\"error_x\":{\"color\":\"#2a3f5f\"},\"error_y\":{\"color\":\"#2a3f5f\"},\"marker\":{\"line\":{\"color\":\"#E5ECF6\",\"width\":0.5},\"pattern\":{\"fillmode\":\"overlay\",\"size\":10,\"solidity\":0.2}},\"type\":\"bar\"}],\"scattergeo\":[{\"type\":\"scattergeo\",\"marker\":{\"colorbar\":{\"outlinewidth\":0,\"ticks\":\"\"}}}],\"scatterpolar\":[{\"type\":\"scatterpolar\",\"marker\":{\"colorbar\":{\"outlinewidth\":0,\"ticks\":\"\"}}}],\"histogram\":[{\"marker\":{\"pattern\":{\"fillmode\":\"overlay\",\"size\":10,\"solidity\":0.2}},\"type\":\"histogram\"}],\"scattergl\":[{\"type\":\"scattergl\",\"marker\":{\"colorbar\":{\"outlinewidth\":0,\"ticks\":\"\"}}}],\"scatter3d\":[{\"type\":\"scatter3d\",\"line\":{\"colorbar\":{\"outlinewidth\":0,\"ticks\":\"\"}},\"marker\":{\"colorbar\":{\"outlinewidth\":0,\"ticks\":\"\"}}}],\"scattermapbox\":[{\"type\":\"scattermapbox\",\"marker\":{\"colorbar\":{\"outlinewidth\":0,\"ticks\":\"\"}}}],\"scatterternary\":[{\"type\":\"scatterternary\",\"marker\":{\"colorbar\":{\"outlinewidth\":0,\"ticks\":\"\"}}}],\"scattercarpet\":[{\"type\":\"scattercarpet\",\"marker\":{\"colorbar\":{\"outlinewidth\":0,\"ticks\":\"\"}}}],\"carpet\":[{\"aaxis\":{\"endlinecolor\":\"#2a3f5f\",\"gridcolor\":\"white\",\"linecolor\":\"white\",\"minorgridcolor\":\"white\",\"startlinecolor\":\"#2a3f5f\"},\"baxis\":{\"endlinecolor\":\"#2a3f5f\",\"gridcolor\":\"white\",\"linecolor\":\"white\",\"minorgridcolor\":\"white\",\"startlinecolor\":\"#2a3f5f\"},\"type\":\"carpet\"}],\"table\":[{\"cells\":{\"fill\":{\"color\":\"#EBF0F8\"},\"line\":{\"color\":\"white\"}},\"header\":{\"fill\":{\"color\":\"#C8D4E3\"},\"line\":{\"color\":\"white\"}},\"type\":\"table\"}],\"barpolar\":[{\"marker\":{\"line\":{\"color\":\"#E5ECF6\",\"width\":0.5},\"pattern\":{\"fillmode\":\"overlay\",\"size\":10,\"solidity\":0.2}},\"type\":\"barpolar\"}],\"pie\":[{\"automargin\":true,\"type\":\"pie\"}]},\"layout\":{\"autotypenumbers\":\"strict\",\"colorway\":[\"#636efa\",\"#EF553B\",\"#00cc96\",\"#ab63fa\",\"#FFA15A\",\"#19d3f3\",\"#FF6692\",\"#B6E880\",\"#FF97FF\",\"#FECB52\"],\"font\":{\"color\":\"#2a3f5f\"},\"hovermode\":\"closest\",\"hoverlabel\":{\"align\":\"left\"},\"paper_bgcolor\":\"white\",\"plot_bgcolor\":\"#E5ECF6\",\"polar\":{\"bgcolor\":\"#E5ECF6\",\"angularaxis\":{\"gridcolor\":\"white\",\"linecolor\":\"white\",\"ticks\":\"\"},\"radialaxis\":{\"gridcolor\":\"white\",\"linecolor\":\"white\",\"ticks\":\"\"}},\"ternary\":{\"bgcolor\":\"#E5ECF6\",\"aaxis\":{\"gridcolor\":\"white\",\"linecolor\":\"white\",\"ticks\":\"\"},\"baxis\":{\"gridcolor\":\"white\",\"linecolor\":\"white\",\"ticks\":\"\"},\"caxis\":{\"gridcolor\":\"white\",\"linecolor\":\"white\",\"ticks\":\"\"}},\"coloraxis\":{\"colorbar\":{\"outlinewidth\":0,\"ticks\":\"\"}},\"colorscale\":{\"sequential\":[[0.0,\"#0d0887\"],[0.1111111111111111,\"#46039f\"],[0.2222222222222222,\"#7201a8\"],[0.3333333333333333,\"#9c179e\"],[0.4444444444444444,\"#bd3786\"],[0.5555555555555556,\"#d8576b\"],[0.6666666666666666,\"#ed7953\"],[0.7777777777777778,\"#fb9f3a\"],[0.8888888888888888,\"#fdca26\"],[1.0,\"#f0f921\"]],\"sequentialminus\":[[0.0,\"#0d0887\"],[0.1111111111111111,\"#46039f\"],[0.2222222222222222,\"#7201a8\"],[0.3333333333333333,\"#9c179e\"],[0.4444444444444444,\"#bd3786\"],[0.5555555555555556,\"#d8576b\"],[0.6666666666666666,\"#ed7953\"],[0.7777777777777778,\"#fb9f3a\"],[0.8888888888888888,\"#fdca26\"],[1.0,\"#f0f921\"]],\"diverging\":[[0,\"#8e0152\"],[0.1,\"#c51b7d\"],[0.2,\"#de77ae\"],[0.3,\"#f1b6da\"],[0.4,\"#fde0ef\"],[0.5,\"#f7f7f7\"],[0.6,\"#e6f5d0\"],[0.7,\"#b8e186\"],[0.8,\"#7fbc41\"],[0.9,\"#4d9221\"],[1,\"#276419\"]]},\"xaxis\":{\"gridcolor\":\"white\",\"linecolor\":\"white\",\"ticks\":\"\",\"title\":{\"standoff\":15},\"zerolinecolor\":\"white\",\"automargin\":true,\"zerolinewidth\":2},\"yaxis\":{\"gridcolor\":\"white\",\"linecolor\":\"white\",\"ticks\":\"\",\"title\":{\"standoff\":15},\"zerolinecolor\":\"white\",\"automargin\":true,\"zerolinewidth\":2},\"scene\":{\"xaxis\":{\"backgroundcolor\":\"#E5ECF6\",\"gridcolor\":\"white\",\"linecolor\":\"white\",\"showbackground\":true,\"ticks\":\"\",\"zerolinecolor\":\"white\",\"gridwidth\":2},\"yaxis\":{\"backgroundcolor\":\"#E5ECF6\",\"gridcolor\":\"white\",\"linecolor\":\"white\",\"showbackground\":true,\"ticks\":\"\",\"zerolinecolor\":\"white\",\"gridwidth\":2},\"zaxis\":{\"backgroundcolor\":\"#E5ECF6\",\"gridcolor\":\"white\",\"linecolor\":\"white\",\"showbackground\":true,\"ticks\":\"\",\"zerolinecolor\":\"white\",\"gridwidth\":2}},\"shapedefaults\":{\"line\":{\"color\":\"#2a3f5f\"}},\"annotationdefaults\":{\"arrowcolor\":\"#2a3f5f\",\"arrowhead\":0,\"arrowwidth\":1},\"geo\":{\"bgcolor\":\"white\",\"landcolor\":\"#E5ECF6\",\"subunitcolor\":\"white\",\"showland\":true,\"showlakes\":true,\"lakecolor\":\"white\"},\"title\":{\"x\":0.05},\"mapbox\":{\"style\":\"light\"}}},\"xaxis\":{\"anchor\":\"y\",\"domain\":[0.0,1.0],\"title\":{\"text\":\"Tipo de movimento\\u002fposi\\u00e7\\u00e3o\"}},\"yaxis\":{\"anchor\":\"x\",\"domain\":[0.0,1.0],\"title\":{\"text\":\"Frequencia\"}},\"legend\":{\"tracegroupgap\":0},\"title\":{\"text\":\"Distribui\\u00e7\\u00e3o de frequencia das vari\\u00e1veis\"},\"barmode\":\"relative\",\"font\":{\"family\":\"Courier New, monospace\",\"size\":18,\"color\":\"RebeccaPurple\"}},                        {\"responsive\": true}                    ).then(function(){\n",
              "                            \n",
              "var gd = document.getElementById('7923832b-705c-42ed-acc9-936b38e77cb9');\n",
              "var x = new MutationObserver(function (mutations, observer) {{\n",
              "        var display = window.getComputedStyle(gd).display;\n",
              "        if (!display || display === 'none') {{\n",
              "            console.log([gd, 'removed!']);\n",
              "            Plotly.purge(gd);\n",
              "            observer.disconnect();\n",
              "        }}\n",
              "}});\n",
              "\n",
              "// Listen for the removal of the full notebook cells\n",
              "var notebookContainer = gd.closest('#notebook-container');\n",
              "if (notebookContainer) {{\n",
              "    x.observe(notebookContainer, {childList: true});\n",
              "}}\n",
              "\n",
              "// Listen for the clearing of the current output cell\n",
              "var outputEl = gd.closest('.output');\n",
              "if (outputEl) {{\n",
              "    x.observe(outputEl, {childList: true});\n",
              "}}\n",
              "\n",
              "                        })                };                            </script>        </div>\n",
              "</body>\n",
              "</html>"
            ]
          },
          "metadata": {}
        }
      ],
      "source": [
        "import plotly.express as px\n",
        "freq=pd.DataFrame(train.y.value_counts())\n",
        "fig = px.bar(freq, x=freq.index, y='y',title=\"Distribuição de frequencia das variáveis\")\n",
        "fig.update_layout(\n",
        "    xaxis_title=\"Tipo de movimento/posição\",\n",
        "    yaxis_title=\"Frequencia\",\n",
        "    font=dict(\n",
        "        family=\"Courier New, monospace\",\n",
        "        size=18,\n",
        "        color=\"RebeccaPurple\"\n",
        "    )\n",
        ")\n",
        "fig.show()"
      ]
    },
    {
      "cell_type": "markdown",
      "source": [
        "## Criando uma rede neural"
      ],
      "metadata": {
        "id": "tKRbcu4HkPen"
      }
    },
    {
      "cell_type": "code",
      "source": [
        "\n",
        "import matplotlib.pyplot as plt\n",
        "import pandas as pd\n",
        "import numpy as np"
      ],
      "metadata": {
        "id": "5O5VFaV_kUG_"
      },
      "execution_count": null,
      "outputs": []
    },
    {
      "cell_type": "code",
      "source": [
        "import pandas as pd\n",
        "from sklearn import preprocessing\n",
        "\n",
        "min_max_scaler = preprocessing.MinMaxScaler()\n"
      ],
      "metadata": {
        "id": "ZMtVnR8obe_4"
      },
      "execution_count": null,
      "outputs": []
    },
    {
      "cell_type": "markdown",
      "source": [
        "## Preparação dos dados"
      ],
      "metadata": {
        "id": "iVBXXgMuSGNF"
      }
    },
    {
      "cell_type": "code",
      "source": [
        "test['V1']=test['V1']-1# passando o rotulo 1 para 0, 2 para 1 e assim por diante\n",
        "train['V1']=train['V1']-1"
      ],
      "metadata": {
        "id": "1WvUw7Tldh9D"
      },
      "execution_count": null,
      "outputs": []
    },
    {
      "cell_type": "code",
      "source": [
        "y_train=train['V1'].to_numpy().astype('int')#Definindo dados de treino\n",
        "x_train=x_scaled = min_max_scaler.fit_transform(train.drop(['y', 'V1'], axis=1).to_numpy().astype('float32'))#Definindo dados de treino\n",
        "y_teste=test['V1'].to_numpy()#Definindo dados de validação\n",
        "x_teste=x_scaled = min_max_scaler.fit_transform(test.drop(['y', 'V1'], axis=1).to_numpy().astype('float32'))#Definindo dados de validação"
      ],
      "metadata": {
        "id": "n3n9u4yTnhKx"
      },
      "execution_count": null,
      "outputs": []
    },
    {
      "cell_type": "markdown",
      "source": [
        "## Definindo rede neural"
      ],
      "metadata": {
        "id": "KwKhKnQ6VWTD"
      }
    },
    {
      "cell_type": "code",
      "source": [
        "\n",
        "modelo = keras.Sequential([\n",
        "    keras.layers.Dense(561, activation=tensorflow.nn.relu),\n",
        "    keras.layers.Dropout(0.2),\n",
        "    keras.layers.Dense(6, activation=tensorflow.nn.softmax)\n",
        "])\n",
        "\n",
        "modelo.compile(optimizer='adam',\n",
        "               loss='sparse_categorical_crossentropy',\n",
        "               metrics=['accuracy'])\n",
        "\n",
        "historico = modelo.fit(x_train, y_train, epochs=50, validation_split=0.2)"
      ],
      "metadata": {
        "colab": {
          "base_uri": "https://localhost:8080/"
        },
        "id": "wfV9huHt1gU3",
        "outputId": "57f63105-f02a-4ceb-91e4-dd602c132440"
      },
      "execution_count": null,
      "outputs": [
        {
          "output_type": "stream",
          "name": "stdout",
          "text": [
            "Epoch 1/50\n",
            "184/184 [==============================] - 9s 10ms/step - loss: 0.4856 - accuracy: 0.8118 - val_loss: 0.2883 - val_accuracy: 0.8763\n",
            "Epoch 2/50\n",
            "184/184 [==============================] - 1s 8ms/step - loss: 0.2163 - accuracy: 0.9211 - val_loss: 0.1865 - val_accuracy: 0.9395\n",
            "Epoch 3/50\n",
            "184/184 [==============================] - 2s 12ms/step - loss: 0.1605 - accuracy: 0.9395 - val_loss: 0.1474 - val_accuracy: 0.9347\n",
            "Epoch 4/50\n",
            "184/184 [==============================] - 2s 9ms/step - loss: 0.1351 - accuracy: 0.9481 - val_loss: 0.1348 - val_accuracy: 0.9436\n",
            "Epoch 5/50\n",
            "184/184 [==============================] - 1s 6ms/step - loss: 0.1175 - accuracy: 0.9541 - val_loss: 0.1298 - val_accuracy: 0.9409\n",
            "Epoch 6/50\n",
            "184/184 [==============================] - 1s 6ms/step - loss: 0.0946 - accuracy: 0.9650 - val_loss: 0.1450 - val_accuracy: 0.9368\n",
            "Epoch 7/50\n",
            "184/184 [==============================] - 1s 4ms/step - loss: 0.0980 - accuracy: 0.9616 - val_loss: 0.1316 - val_accuracy: 0.9456\n",
            "Epoch 8/50\n",
            "184/184 [==============================] - 1s 4ms/step - loss: 0.0723 - accuracy: 0.9747 - val_loss: 0.1371 - val_accuracy: 0.9524\n",
            "Epoch 9/50\n",
            "184/184 [==============================] - 1s 3ms/step - loss: 0.0792 - accuracy: 0.9658 - val_loss: 0.1409 - val_accuracy: 0.9517\n",
            "Epoch 10/50\n",
            "184/184 [==============================] - 1s 4ms/step - loss: 0.0709 - accuracy: 0.9733 - val_loss: 0.1254 - val_accuracy: 0.9470\n",
            "Epoch 11/50\n",
            "184/184 [==============================] - 1s 4ms/step - loss: 0.0699 - accuracy: 0.9719 - val_loss: 0.1270 - val_accuracy: 0.9545\n",
            "Epoch 12/50\n",
            "184/184 [==============================] - 1s 4ms/step - loss: 0.0689 - accuracy: 0.9750 - val_loss: 0.1565 - val_accuracy: 0.9511\n",
            "Epoch 13/50\n",
            "184/184 [==============================] - 1s 4ms/step - loss: 0.0643 - accuracy: 0.9770 - val_loss: 0.1860 - val_accuracy: 0.9395\n",
            "Epoch 14/50\n",
            "184/184 [==============================] - 1s 4ms/step - loss: 0.0678 - accuracy: 0.9725 - val_loss: 0.1308 - val_accuracy: 0.9511\n",
            "Epoch 15/50\n",
            "184/184 [==============================] - 1s 4ms/step - loss: 0.0622 - accuracy: 0.9743 - val_loss: 0.1162 - val_accuracy: 0.9551\n",
            "Epoch 16/50\n",
            "184/184 [==============================] - 1s 4ms/step - loss: 0.0525 - accuracy: 0.9791 - val_loss: 0.1172 - val_accuracy: 0.9579\n",
            "Epoch 17/50\n",
            "184/184 [==============================] - 1s 4ms/step - loss: 0.0650 - accuracy: 0.9750 - val_loss: 0.1131 - val_accuracy: 0.9551\n",
            "Epoch 18/50\n",
            "184/184 [==============================] - 1s 5ms/step - loss: 0.0571 - accuracy: 0.9765 - val_loss: 0.1111 - val_accuracy: 0.9517\n",
            "Epoch 19/50\n",
            "184/184 [==============================] - 1s 5ms/step - loss: 0.0516 - accuracy: 0.9793 - val_loss: 0.1392 - val_accuracy: 0.9579\n",
            "Epoch 20/50\n",
            "184/184 [==============================] - 1s 6ms/step - loss: 0.0508 - accuracy: 0.9796 - val_loss: 0.1639 - val_accuracy: 0.9545\n",
            "Epoch 21/50\n",
            "184/184 [==============================] - 1s 5ms/step - loss: 0.0563 - accuracy: 0.9789 - val_loss: 0.1609 - val_accuracy: 0.9368\n",
            "Epoch 22/50\n",
            "184/184 [==============================] - 1s 4ms/step - loss: 0.0600 - accuracy: 0.9767 - val_loss: 0.1567 - val_accuracy: 0.9579\n",
            "Epoch 23/50\n",
            "184/184 [==============================] - 1s 3ms/step - loss: 0.0538 - accuracy: 0.9791 - val_loss: 0.1247 - val_accuracy: 0.9613\n",
            "Epoch 24/50\n",
            "184/184 [==============================] - 1s 4ms/step - loss: 0.0459 - accuracy: 0.9828 - val_loss: 0.1177 - val_accuracy: 0.9613\n",
            "Epoch 25/50\n",
            "184/184 [==============================] - 1s 3ms/step - loss: 0.0383 - accuracy: 0.9869 - val_loss: 0.1253 - val_accuracy: 0.9524\n",
            "Epoch 26/50\n",
            "184/184 [==============================] - 1s 3ms/step - loss: 0.0389 - accuracy: 0.9842 - val_loss: 0.2052 - val_accuracy: 0.9483\n",
            "Epoch 27/50\n",
            "184/184 [==============================] - 1s 4ms/step - loss: 0.0428 - accuracy: 0.9838 - val_loss: 0.1119 - val_accuracy: 0.9538\n",
            "Epoch 28/50\n",
            "184/184 [==============================] - 1s 4ms/step - loss: 0.0345 - accuracy: 0.9862 - val_loss: 0.1231 - val_accuracy: 0.9606\n",
            "Epoch 29/50\n",
            "184/184 [==============================] - 1s 4ms/step - loss: 0.0397 - accuracy: 0.9855 - val_loss: 0.1878 - val_accuracy: 0.9538\n",
            "Epoch 30/50\n",
            "184/184 [==============================] - 1s 4ms/step - loss: 0.0498 - accuracy: 0.9794 - val_loss: 0.1288 - val_accuracy: 0.9524\n",
            "Epoch 31/50\n",
            "184/184 [==============================] - 1s 3ms/step - loss: 0.0622 - accuracy: 0.9764 - val_loss: 0.1229 - val_accuracy: 0.9579\n",
            "Epoch 32/50\n",
            "184/184 [==============================] - 1s 3ms/step - loss: 0.0437 - accuracy: 0.9821 - val_loss: 0.0985 - val_accuracy: 0.9606\n",
            "Epoch 33/50\n",
            "184/184 [==============================] - 1s 4ms/step - loss: 0.0308 - accuracy: 0.9896 - val_loss: 0.1126 - val_accuracy: 0.9633\n",
            "Epoch 34/50\n",
            "184/184 [==============================] - 1s 4ms/step - loss: 0.0355 - accuracy: 0.9874 - val_loss: 0.0964 - val_accuracy: 0.9619\n",
            "Epoch 35/50\n",
            "184/184 [==============================] - 1s 4ms/step - loss: 0.0328 - accuracy: 0.9876 - val_loss: 0.1112 - val_accuracy: 0.9653\n",
            "Epoch 36/50\n",
            "184/184 [==============================] - 1s 5ms/step - loss: 0.0317 - accuracy: 0.9886 - val_loss: 0.0986 - val_accuracy: 0.9626\n",
            "Epoch 37/50\n",
            "184/184 [==============================] - 1s 5ms/step - loss: 0.0311 - accuracy: 0.9895 - val_loss: 0.1140 - val_accuracy: 0.9646\n",
            "Epoch 38/50\n",
            "184/184 [==============================] - 1s 5ms/step - loss: 0.0300 - accuracy: 0.9889 - val_loss: 0.1174 - val_accuracy: 0.9646\n",
            "Epoch 39/50\n",
            "184/184 [==============================] - 1s 5ms/step - loss: 0.0321 - accuracy: 0.9878 - val_loss: 0.1796 - val_accuracy: 0.9463\n",
            "Epoch 40/50\n",
            "184/184 [==============================] - 1s 4ms/step - loss: 0.0396 - accuracy: 0.9850 - val_loss: 0.1116 - val_accuracy: 0.9599\n",
            "Epoch 41/50\n",
            "184/184 [==============================] - 1s 4ms/step - loss: 0.0558 - accuracy: 0.9806 - val_loss: 0.1165 - val_accuracy: 0.9633\n",
            "Epoch 42/50\n",
            "184/184 [==============================] - 1s 4ms/step - loss: 0.0379 - accuracy: 0.9857 - val_loss: 0.1307 - val_accuracy: 0.9565\n",
            "Epoch 43/50\n",
            "184/184 [==============================] - 1s 4ms/step - loss: 0.0368 - accuracy: 0.9847 - val_loss: 0.1122 - val_accuracy: 0.9626\n",
            "Epoch 44/50\n",
            "184/184 [==============================] - 1s 4ms/step - loss: 0.0283 - accuracy: 0.9898 - val_loss: 0.0961 - val_accuracy: 0.9674\n",
            "Epoch 45/50\n",
            "184/184 [==============================] - 1s 4ms/step - loss: 0.0264 - accuracy: 0.9893 - val_loss: 0.0943 - val_accuracy: 0.9674\n",
            "Epoch 46/50\n",
            "184/184 [==============================] - 1s 4ms/step - loss: 0.0351 - accuracy: 0.9855 - val_loss: 0.1554 - val_accuracy: 0.9619\n",
            "Epoch 47/50\n",
            "184/184 [==============================] - 1s 4ms/step - loss: 0.0307 - accuracy: 0.9888 - val_loss: 0.2632 - val_accuracy: 0.9307\n",
            "Epoch 48/50\n",
            "184/184 [==============================] - 1s 3ms/step - loss: 0.0344 - accuracy: 0.9878 - val_loss: 0.1200 - val_accuracy: 0.9579\n",
            "Epoch 49/50\n",
            "184/184 [==============================] - 1s 3ms/step - loss: 0.0248 - accuracy: 0.9912 - val_loss: 0.1115 - val_accuracy: 0.9680\n",
            "Epoch 50/50\n",
            "184/184 [==============================] - 1s 4ms/step - loss: 0.0352 - accuracy: 0.9857 - val_loss: 0.1193 - val_accuracy: 0.9653\n"
          ]
        }
      ]
    },
    {
      "cell_type": "markdown",
      "source": [
        "## Métricas de avaliação"
      ],
      "metadata": {
        "id": "Ycbwxu-WVab3"
      }
    },
    {
      "cell_type": "code",
      "source": [
        "plt.plot(historico.history['accuracy'])\n",
        "plt.plot(historico.history['val_accuracy'])\n",
        "plt.title('Acurácia por épocas')\n",
        "plt.xlabel('épocas')\n",
        "plt.ylabel('acurácia')\n",
        "plt.legend(['treino', 'validação'])"
      ],
      "metadata": {
        "colab": {
          "base_uri": "https://localhost:8080/",
          "height": 490
        },
        "id": "5fZ5BLMB2fmc",
        "outputId": "c0080582-3ebe-4b80-d9f7-6cc8943273f8"
      },
      "execution_count": null,
      "outputs": [
        {
          "output_type": "execute_result",
          "data": {
            "text/plain": [
              "<matplotlib.legend.Legend at 0x7aed283b3f70>"
            ]
          },
          "metadata": {},
          "execution_count": 11
        },
        {
          "output_type": "display_data",
          "data": {
            "text/plain": [
              "<Figure size 640x480 with 1 Axes>"
            ],
            "image/png": "[encoded data removed]"
          },
          "metadata": {}
        }
      ]
    },
    {
      "cell_type": "code",
      "source": [
        "plt.plot(historico.history['loss'])\n",
        "plt.plot(historico.history['val_loss'])\n",
        "plt.title('Perda por épocas')\n",
        "plt.xlabel('épocas')\n",
        "plt.ylabel('perda')\n",
        "plt.legend(['treino', 'validação'])"
      ],
      "metadata": {
        "colab": {
          "base_uri": "https://localhost:8080/",
          "height": 490
        },
        "id": "ZpQ6GoAa3CBX",
        "outputId": "62ca0ee0-c44e-4f46-a347-2242d63cf7a9"
      },
      "execution_count": null,
      "outputs": [
        {
          "output_type": "execute_result",
          "data": {
            "text/plain": [
              "<matplotlib.legend.Legend at 0x7aed283b1210>"
            ]
          },
          "metadata": {},
          "execution_count": 12
        },
        {
          "output_type": "display_data",
          "data": {
            "text/plain": [
              "<Figure size 640x480 with 1 Axes>"
            ],
            "image/png": "[encoded data removed]"
          },
          "metadata": {}
        }
      ]
    },
    {
      "cell_type": "code",
      "execution_count": null,
      "metadata": {
        "id": "Gww-HTx0OSwF"
      },
      "outputs": [],
      "source": [
        "from numpy import std\n",
        "from sklearn.metrics import accuracy_score"
      ]
    },
    {
      "cell_type": "code",
      "execution_count": null,
      "metadata": {
        "colab": {
          "base_uri": "https://localhost:8080/"
        },
        "id": "yzPKmLWFPC96",
        "outputId": "bb2a897d-f199-453e-9df2-957ece95b12a"
      },
      "outputs": [
        {
          "output_type": "stream",
          "name": "stdout",
          "text": [
            "93/93 [==============================] - 0s 2ms/step\n",
            "A acurácia foi 86.63%\n"
          ]
        }
      ],
      "source": [
        "testes=modelo.predict(x_teste)\n",
        "yhat=np.argmax(testes, axis=1)\n",
        "previsoes= pd.DataFrame(yhat)\n",
        "teste_y=test['V1']\n",
        "\n",
        "acuracia_GB = accuracy_score(teste_y, previsoes) * 100\n",
        "print(\"A acurácia foi %.2f%%\" % acuracia_GB)"
      ]
    },
    {
      "cell_type": "code",
      "execution_count": null,
      "metadata": {
        "colab": {
          "base_uri": "https://localhost:8080/"
        },
        "id": "ApECmfGhQXga",
        "outputId": "1b5d081c-a6c7-47d3-c27d-56fe211eaa41"
      },
      "outputs": [
        {
          "output_type": "stream",
          "name": "stdout",
          "text": [
            "              precision    recall  f1-score   support\n",
            "\n",
            "           0       0.98      0.91      0.94       496\n",
            "           1       0.98      0.81      0.89       471\n",
            "           2       0.78      1.00      0.87       420\n",
            "           3       0.66      0.98      0.79       491\n",
            "           4       0.97      0.54      0.69       532\n",
            "           5       1.00      1.00      1.00       537\n",
            "\n",
            "    accuracy                           0.87      2947\n",
            "   macro avg       0.89      0.87      0.86      2947\n",
            "weighted avg       0.90      0.87      0.86      2947\n",
            "\n"
          ]
        }
      ],
      "source": [
        "from sklearn.metrics import classification_report\n",
        "print(classification_report(teste_y, previsoes))"
      ]
    },
    {
      "cell_type": "code",
      "execution_count": null,
      "metadata": {
        "colab": {
          "base_uri": "https://localhost:8080/",
          "height": 472
        },
        "id": "VXSROYdlQVY7",
        "outputId": "62f82602-c85f-404e-84d5-fe7716fa7b53"
      },
      "outputs": [
        {
          "output_type": "display_data",
          "data": {
            "text/plain": [
              "<Figure size 640x480 with 2 Axes>"
            ],
            "image/png": "[encoded data removed]"
          },
          "metadata": {}
        }
      ],
      "source": [
        "from sklearn.metrics import confusion_matrix\n",
        "\n",
        "cm = confusion_matrix(teste_y, previsoes, labels=None, sample_weight=None)\n",
        "\n",
        "# Plot\n",
        "\n",
        "ax= plt.subplot()\n",
        "sns.heatmap(cm, annot=True, fmt='g', ax=ax)\n",
        "ax.set_xlabel('Predição')\n",
        "ax.set_ylabel('Real')\n",
        "ax.set_title('Confusion Matrix')\n",
        "ax.xaxis.set_ticklabels(['andando','deitado' ,'descendo' ,'em pé' , 'sentado','subindo']); ax.yaxis.set_ticklabels(['andando','deitado' ,'descendo' ,'em pé' , 'sentado','subindo']);\n",
        "plt.show()"
      ]
    }
  ]
}